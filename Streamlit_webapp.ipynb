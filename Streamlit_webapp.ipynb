{
  "cells": [
    {
      "cell_type": "markdown",
      "metadata": {
        "id": "view-in-github",
        "colab_type": "text"
      },
      "source": [
        "<a href=\"https://colab.research.google.com/github/jhaRahul2102/Book-recommendation-using-collaborative-approach/blob/main/Streamlit_webapp.ipynb\" target=\"_parent\"><img src=\"https://colab.research.google.com/assets/colab-badge.svg\" alt=\"Open In Colab\"/></a>"
      ]
    },
    {
      "cell_type": "code",
      "source": [
        "#-------- Modules ------------------------------------------------------\n",
        "import streamlit as st  # For webpage\n",
        "import pickle           # Installing model\n",
        "from PIL import Image   \n",
        "import requests         \n",
        "import numpy as np\n",
        "\n",
        "\n",
        "\n",
        "#-------------- Page Configuration -----------------------\n",
        "st.set_page_config(page_title='Book Recommender', page_icon='📚',\n",
        "                   layout='centered', initial_sidebar_state='expanded')\n",
        "\n",
        "#----------------- Recommenation book ------------------\n",
        "def main():\n",
        "  pivot_table=pickle.load(open('book_tag.pkl','rb'))\n",
        "  model=pickle.load(open('model.pkl','rb'))\n",
        "  image=pickle.load(open('image (1).pkl','rb'))\n",
        "  book_info=pickle.load(open('info_book.pkl','rb'))\n",
        "\n",
        "  st.title('Book Recommendation Engine 📖')\n",
        "  book=st.selectbox('Enter name of the book',pivot_table.index)\n",
        "  if book is not None:\n",
        "    url=image[image['Book-Title']==book]['Image-URL-M'].values[0]\n",
        "    im2= Image.open(requests.get(url, stream=True).raw)\n",
        "    st.sidebar.markdown('**Book you choose**:- **{}**'.format(book))\n",
        "    st.sidebar.image(im2,width=120)\n",
        "    st.sidebar.text('------------------------------------------')\n",
        "  \n",
        "    recommendation=st.button('Recommend Book')\n",
        "    index=np.where(pivot_table.index==book)[0][0]\n",
        "    distances,suggestion=model.kneighbors(pivot_table.iloc[index,:].values.reshape(1,-1),n_neighbors=6)\n",
        "    with st.spinner():\n",
        "      if (recommendation is not False):\n",
        "        book1,book2,book3,book4,book5=pivot_table.index[suggestion[0][1:]]\n",
        "        col1,col2, col3, col4, col5= st.columns(5)\n",
        "        with col1:\n",
        "          st.markdown('**{}**'.format(book1))\n",
        "          url=image[image['Book-Title']==book1]['Image-URL-L'].values[0]\n",
        "          im2=Image.open(requests.get(url, stream=True).raw)\n",
        "          st.image(im2)\n",
        "    \n",
        "        with col2:\n",
        "          st.markdown('**{}**'.format(book2))\n",
        "          url=image[image['Book-Title']==book2]['Image-URL-L'].values[0]\n",
        "          im2=Image.open(requests.get(url, stream=True).raw)\n",
        "          st.image(im2)\n",
        "    \n",
        "\n",
        "        with col3:\n",
        "          st.markdown('**{}**'.format(book3))\n",
        "          url=image[image['Book-Title']==book3]['Image-URL-L'].values[0]\n",
        "          im2=Image.open(requests.get(url, stream=True).raw)\n",
        "          st.image(im2)\n",
        "    \n",
        "    \n",
        "        with col4: \n",
        "          st.markdown('**{}**'.format(book4))\n",
        "          url=image[image['Book-Title']==book4]['Image-URL-L'].values[0]\n",
        "          im2=Image.open(requests.get(url, stream=True).raw)     \n",
        "          st.image(im2)\n",
        "   \n",
        "  \n",
        "        with col5:  \n",
        "          st.markdown('**{}**'.format(book5))\n",
        "          url=image[image['Book-Title']==book5]['Image-URL-L'].values[0]\n",
        "          im2=Image.open(requests.get(url, stream=True).raw) \n",
        "          st.image(im2)\n",
        "\n",
        "if __name__=='__main__':\n",
        "  main()"
      ],
      "metadata": {
        "id": "KHqqP0xGfJoF"
      },
      "execution_count": null,
      "outputs": []
    }
  ],
  "metadata": {
    "colab": {
      "collapsed_sections": [],
      "name": "Streamlit webapp.ipynb",
      "provenance": [],
      "authorship_tag": "ABX9TyPae5Tb+JtTDkj7khkxpX0Y",
      "include_colab_link": true
    },
    "kernelspec": {
      "display_name": "Python 3",
      "name": "python3"
    },
    "language_info": {
      "name": "python"
    }
  },
  "nbformat": 4,
  "nbformat_minor": 0
}